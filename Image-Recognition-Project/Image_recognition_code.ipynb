{
  "nbformat": 4,
  "nbformat_minor": 0,
  "metadata": {
    "colab": {
      "name": "Image_recognition_code.ipynb",
      "provenance": []
    },
    "kernelspec": {
      "name": "python3",
      "display_name": "Python 3"
    }
  },
  "cells": [
    {
      "cell_type": "markdown",
      "metadata": {
        "id": "07WN9AxrGkes"
      },
      "source": [
        "TOP CLASS IMAGE RECOGNITION PROJECT "
      ]
    },
    {
      "cell_type": "markdown",
      "metadata": {
        "id": "8VX_Cr-eGsl9"
      },
      "source": [
        "Step1 : Importing libraries "
      ]
    },
    {
      "cell_type": "code",
      "metadata": {
        "id": "3bp1Yf3gGXyg"
      },
      "source": [
        "import keras\r\n",
        "from keras.datasets import cifar10\r\n",
        "from keras.layers import Dense,Conv2D,MaxPooling2D,Dropout,Flatten\r\n",
        "from keras.models import Sequential\r\n",
        "from pathlib import Path\r\n",
        "from keras.preprocessing import image\r\n",
        "import numpy as np\r\n",
        "import matplotlib.pyplot as plt"
      ],
      "execution_count": 2,
      "outputs": []
    },
    {
      "cell_type": "markdown",
      "metadata": {
        "id": "c1V7fhkfGxvX"
      },
      "source": [
        "Hi there,"
      ]
    },
    {
      "cell_type": "markdown",
      "metadata": {
        "id": "0wEY0RidG2Jg"
      },
      "source": [
        "Full project code is longer. "
      ]
    },
    {
      "cell_type": "markdown",
      "metadata": {
        "id": "7yTI6vGBG-HE"
      },
      "source": [
        "For Full Project Code, Project Report and PPT."
      ]
    },
    {
      "cell_type": "markdown",
      "metadata": {
        "id": "FlqsdzbNHDy6"
      },
      "source": [
        "Mail me now at vatshayan007@gmail.com "
      ]
    },
    {
      "cell_type": "code",
      "metadata": {
        "id": "9mWmAMVJGe-d"
      },
      "source": [
        ""
      ],
      "execution_count": null,
      "outputs": []
    }
  ]
}